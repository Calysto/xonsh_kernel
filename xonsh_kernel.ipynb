{
 "cells": [
  {
   "cell_type": "markdown",
   "metadata": {},
   "source": [
    "Jupyter Xonsh Kernel\n",
    "============\n",
    "\n",
    "Interact with Xonsh in Notebook. All commands are interpreted by Xonsh.  Since this is a [MetaKernel](https://github.com/Calysto/metakernel), a standard set of magics are available.  Help on commands is available using the `%help` magic or using `?` with a command."
   ]
  },
  {
   "cell_type": "code",
   "execution_count": 3,
   "metadata": {
    "collapsed": false
   },
   "outputs": [
    {
     "data": {
      "text/plain": [
       "total 464\r\n",
       "-rw-r--r--  1 ssilvester  staff      97 Jul  5 16:03 HISTORY.rst\r\n",
       "-rw-r--r--  1 ssilvester  staff     213 Jul  5 10:04 MANIFEST.in\r\n",
       "-rw-r--r--  1 ssilvester  staff    1266 Jul  5 16:03 Makefile\r\n",
       "-rw-r--r--  1 ssilvester  staff     482 Jul  5 16:48 README.rst\r\n",
       "drwxr-xr-x  3 ssilvester  staff     102 Jul  5 19:09 \u001b[34m__pycache__\u001b[39;49m\u001b[0m\r\n",
       "-rw-r--r--  1 ssilvester  staff      11 Jul  5 16:56 octave-workspace\r\n",
       "-rw-r--r--  1 ssilvester  staff  201754 Jul  5 19:09 parser_table.py\r\n",
       "-rw-r--r--  1 ssilvester  staff    2086 Jul  5 16:48 setup.py\r\n",
       "drwxr-xr-x  7 ssilvester  staff     238 Jul  5 16:56 \u001b[34mxonsh_kernel.egg-info\u001b[39;49m\u001b[0m\r\n",
       "-rw-r--r--  1 ssilvester  staff    4082 Jul  5 19:09 xonsh_kernel.ipynb\r\n",
       "-rw-r--r--  1 ssilvester  staff    1704 Jul  5 19:09 xonsh_kernel.py\r\n",
       "\u001b]2;ssilvester@0202-ssilvester.local: ~/workspace/xonsh_kernel | xonsh\u0007"
      ]
     },
     "execution_count": 3,
     "metadata": {},
     "output_type": "execute_result"
    }
   ],
   "source": [
    "ls -l"
   ]
  },
  {
   "cell_type": "code",
   "execution_count": 4,
   "metadata": {
    "collapsed": false
   },
   "outputs": [
    {
     "data": {
      "text/plain": [
       "\u001b]2;ssilvester@0202-ssilvester.local: ~/workspace/xonsh_kernel | xonsh\u0007"
      ]
     },
     "execution_count": 4,
     "metadata": {},
     "output_type": "execute_result"
    }
   ],
   "source": [
    "a = 1"
   ]
  },
  {
   "cell_type": "code",
   "execution_count": 5,
   "metadata": {
    "collapsed": false
   },
   "outputs": [
    {
     "data": {
      "text/plain": [
       "1\r\n",
       "\u001b]2;ssilvester@0202-ssilvester.local: ~/workspace/xonsh_kernel | xonsh\u0007"
      ]
     },
     "execution_count": 5,
     "metadata": {},
     "output_type": "execute_result"
    }
   ],
   "source": [
    "a"
   ]
  },
  {
   "cell_type": "code",
   "execution_count": 5,
   "metadata": {
    "collapsed": false
   },
   "outputs": [
    {
     "data": {
      "text/plain": [
       "\u001b]2;ssilvester@0202-ssilvester.local: ~/workspace/xonsh_kernel | xonsh\u0007"
      ]
     },
     "execution_count": 5,
     "metadata": {},
     "output_type": "execute_result"
    }
   ],
   "source": [
    "b = a + 3;"
   ]
  },
  {
   "cell_type": "code",
   "execution_count": 6,
   "metadata": {
    "collapsed": false
   },
   "outputs": [
    {
     "data": {
      "text/plain": [
       "4\r\n",
       "\u001b]2;ssilvester@0202-ssilvester.local: ~/workspace/xonsh_kernel | xonsh\u0007"
      ]
     },
     "execution_count": 6,
     "metadata": {},
     "output_type": "execute_result"
    }
   ],
   "source": [
    "print(b)"
   ]
  },
  {
   "cell_type": "code",
   "execution_count": 6,
   "metadata": {
    "collapsed": false
   },
   "outputs": [
    {
     "name": "stdout",
     "output_type": "stream",
     "text": [
      "Available line magics:\n",
      "%cd  %connect_info  %download  %edit  %get  %help  %html  %install  %install_magic  %javascript  %kernel  %kx  %latex  %load  %ls  %lsmagic  %magic  %parallel  %plot  %pmap  %px  %python  %reload_magics  %restart  %run  %set  %shell  %spell\n",
      "\n",
      "Available cell magics:\n",
      "%%debug  %%file  %%help  %%html  %%javascript  %%kx  %%latex  %%processing  %%px  %%python  %%shell  %%show  %%spell  %%time\n"
     ]
    }
   ],
   "source": [
    "%lsmagic"
   ]
  },
  {
   "cell_type": "code",
   "execution_count": null,
   "metadata": {
    "collapsed": true
   },
   "outputs": [],
   "source": []
  }
 ],
 "metadata": {
  "kernelspec": {
   "display_name": "Xonsh",
   "language": "python",
   "name": "xonsh_kernel"
  },
  "language_info": {
   "file_extension": ".sh",
   "help_links": [
    {
     "text": "MetaKernel Magics",
     "url": "https://github.com/calysto/metakernel/blob/master/metakernel/magics/README.md"
    }
   ],
   "mimetype": "text/x-bash",
   "name": "xonsh_kernel"
  }
 },
 "nbformat": 4,
 "nbformat_minor": 0
}
